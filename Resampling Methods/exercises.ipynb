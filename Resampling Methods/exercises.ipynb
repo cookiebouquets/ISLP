{
 "cells": [
  {
   "cell_type": "code",
   "execution_count": 423,
   "id": "987fa569",
   "metadata": {},
   "outputs": [],
   "source": [
    "#Basic Imports\n",
    "import pandas as pd\n",
    "import numpy as np\n",
    "import matplotlib as plt\n",
    "import statsmodels.api as sm\n",
    "import seaborn as sns\n",
    "from ISLP import load_data\n",
    "from ISLP.models import (ModelSpec as MS,summarize)\n",
    "from sklearn.model_selection import train_test_split"
   ]
  },
  {
   "cell_type": "code",
   "execution_count": 424,
   "id": "8ec84c67",
   "metadata": {},
   "outputs": [],
   "source": [
    "#Classifying Imports\n",
    "from ISLP import confusion_table\n",
    "from ISLP.models import contrast\n",
    "from sklearn.discriminant_analysis import LinearDiscriminantAnalysis as LDA\n",
    "from sklearn.discriminant_analysis import QuadraticDiscriminantAnalysis as QDA\n",
    "from sklearn.naive_bayes import GaussianNB\n",
    "from sklearn.neighbors import KNeighborsClassifier\n",
    "from sklearn.preprocessing import StandardScaler\n",
    "from sklearn.model_selection import train_test_split\n",
    "from sklearn.linear_model import LogisticRegression\n",
    "from sklearn.preprocessing import OrdinalEncoder"
   ]
  },
  {
   "cell_type": "code",
   "execution_count": 425,
   "id": "e4ecec55",
   "metadata": {},
   "outputs": [
    {
     "data": {
      "text/html": [
       "<div>\n",
       "<style scoped>\n",
       "    .dataframe tbody tr th:only-of-type {\n",
       "        vertical-align: middle;\n",
       "    }\n",
       "\n",
       "    .dataframe tbody tr th {\n",
       "        vertical-align: top;\n",
       "    }\n",
       "\n",
       "    .dataframe thead th {\n",
       "        text-align: right;\n",
       "    }\n",
       "</style>\n",
       "<table border=\"1\" class=\"dataframe\">\n",
       "  <thead>\n",
       "    <tr style=\"text-align: right;\">\n",
       "      <th></th>\n",
       "      <th>default</th>\n",
       "      <th>student</th>\n",
       "      <th>balance</th>\n",
       "      <th>income</th>\n",
       "    </tr>\n",
       "  </thead>\n",
       "  <tbody>\n",
       "    <tr>\n",
       "      <th>0</th>\n",
       "      <td>No</td>\n",
       "      <td>No</td>\n",
       "      <td>729.526495</td>\n",
       "      <td>44361.625074</td>\n",
       "    </tr>\n",
       "    <tr>\n",
       "      <th>1</th>\n",
       "      <td>No</td>\n",
       "      <td>Yes</td>\n",
       "      <td>817.180407</td>\n",
       "      <td>12106.134700</td>\n",
       "    </tr>\n",
       "    <tr>\n",
       "      <th>2</th>\n",
       "      <td>No</td>\n",
       "      <td>No</td>\n",
       "      <td>1073.549164</td>\n",
       "      <td>31767.138947</td>\n",
       "    </tr>\n",
       "    <tr>\n",
       "      <th>3</th>\n",
       "      <td>No</td>\n",
       "      <td>No</td>\n",
       "      <td>529.250605</td>\n",
       "      <td>35704.493935</td>\n",
       "    </tr>\n",
       "    <tr>\n",
       "      <th>4</th>\n",
       "      <td>No</td>\n",
       "      <td>No</td>\n",
       "      <td>785.655883</td>\n",
       "      <td>38463.495879</td>\n",
       "    </tr>\n",
       "  </tbody>\n",
       "</table>\n",
       "</div>"
      ],
      "text/plain": [
       "  default student      balance        income\n",
       "0      No      No   729.526495  44361.625074\n",
       "1      No     Yes   817.180407  12106.134700\n",
       "2      No      No  1073.549164  31767.138947\n",
       "3      No      No   529.250605  35704.493935\n",
       "4      No      No   785.655883  38463.495879"
      ]
     },
     "execution_count": 425,
     "metadata": {},
     "output_type": "execute_result"
    }
   ],
   "source": [
    "Default = load_data(\"Default\")\n",
    "Default.head()"
   ]
  },
  {
   "cell_type": "code",
   "execution_count": 426,
   "id": "5f2def20",
   "metadata": {},
   "outputs": [],
   "source": [
    "enc = OrdinalEncoder(categories = [[\"No\",\"Yes\"]])\n",
    "Default[\"student_encoded\"] = enc.fit_transform(Default[[\"student\"]])"
   ]
  },
  {
   "cell_type": "code",
   "execution_count": 427,
   "id": "c1ce3769",
   "metadata": {},
   "outputs": [],
   "source": [
    "default_train,default_test = train_test_split(Default,test_size=2000)"
   ]
  },
  {
   "cell_type": "code",
   "execution_count": 428,
   "id": "741fd505",
   "metadata": {},
   "outputs": [
    {
     "name": "stdout",
     "output_type": "stream",
     "text": [
      "                 Generalized Linear Model Regression Results                  \n",
      "==============================================================================\n",
      "Dep. Variable:                default   No. Observations:                 8000\n",
      "Model:                            GLM   Df Residuals:                     7996\n",
      "Model Family:                Binomial   Df Model:                            3\n",
      "Link Function:                  Logit   Scale:                          1.0000\n",
      "Method:                          IRLS   Log-Likelihood:                -617.88\n",
      "Date:                Wed, 30 Apr 2025   Deviance:                       1235.8\n",
      "Time:                        13:17:19   Pearson chi2:                 5.37e+03\n",
      "No. Iterations:                     9   Pseudo R-squ. (CS):             0.1283\n",
      "Covariance Type:            nonrobust                                         \n",
      "===================================================================================\n",
      "                      coef    std err          z      P>|z|      [0.025      0.975]\n",
      "-----------------------------------------------------------------------------------\n",
      "intercept         -10.9352      0.560    -19.514      0.000     -12.034      -9.837\n",
      "balance             0.0058      0.000     22.169      0.000       0.005       0.006\n",
      "income           2.927e-06   9.34e-06      0.313      0.754   -1.54e-05    2.12e-05\n",
      "student_encoded    -0.7378      0.267     -2.762      0.006      -1.261      -0.214\n",
      "===================================================================================\n"
     ]
    }
   ],
   "source": [
    "allvars = Default.columns.drop([\"student\",\"default\"])\n",
    "modelspec = MS(allvars)\n",
    "X_train  = modelspec.fit_transform(default_train)\n",
    "Y_train = default_train.default == \"Yes\"\n",
    "model = sm.GLM(Y_train,X_train,family=sm.families.Binomial())\n",
    "results = model.fit()\n",
    "print(results.summary())"
   ]
  },
  {
   "cell_type": "code",
   "execution_count": 429,
   "id": "ebdeaec3",
   "metadata": {},
   "outputs": [],
   "source": [
    "\n",
    "x_test = modelspec.fit_transform(default_test)\n",
    "probs = results.predict(exog =  x_test)"
   ]
  },
  {
   "cell_type": "code",
   "execution_count": 430,
   "id": "5f81b26e",
   "metadata": {},
   "outputs": [
    {
     "data": {
      "text/html": [
       "<div>\n",
       "<style scoped>\n",
       "    .dataframe tbody tr th:only-of-type {\n",
       "        vertical-align: middle;\n",
       "    }\n",
       "\n",
       "    .dataframe tbody tr th {\n",
       "        vertical-align: top;\n",
       "    }\n",
       "\n",
       "    .dataframe thead th {\n",
       "        text-align: right;\n",
       "    }\n",
       "</style>\n",
       "<table border=\"1\" class=\"dataframe\">\n",
       "  <thead>\n",
       "    <tr style=\"text-align: right;\">\n",
       "      <th>Truth</th>\n",
       "      <th>No</th>\n",
       "      <th>Yes</th>\n",
       "    </tr>\n",
       "    <tr>\n",
       "      <th>Predicted</th>\n",
       "      <th></th>\n",
       "      <th></th>\n",
       "    </tr>\n",
       "  </thead>\n",
       "  <tbody>\n",
       "    <tr>\n",
       "      <th>No</th>\n",
       "      <td>1926</td>\n",
       "      <td>46</td>\n",
       "    </tr>\n",
       "    <tr>\n",
       "      <th>Yes</th>\n",
       "      <td>7</td>\n",
       "      <td>21</td>\n",
       "    </tr>\n",
       "  </tbody>\n",
       "</table>\n",
       "</div>"
      ],
      "text/plain": [
       "Truth        No  Yes\n",
       "Predicted           \n",
       "No         1926   46\n",
       "Yes           7   21"
      ]
     },
     "execution_count": 430,
     "metadata": {},
     "output_type": "execute_result"
    }
   ],
   "source": [
    "labels = np.array([\"No\"]*2000)\n",
    "labels[probs > 0.5] = \"Yes\"\n",
    "labels = np.char.replace(labels,\"Ye\",\"Yes\")\n",
    "confusion_table(labels,default_test.default)"
   ]
  },
  {
   "cell_type": "code",
   "execution_count": 431,
   "id": "7df9d7ec",
   "metadata": {},
   "outputs": [
    {
     "name": "stdout",
     "output_type": "stream",
     "text": [
      "Validation Set Test Error Rate 2.85\n"
     ]
    }
   ],
   "source": [
    "error = (45+12)/2000 * 100\n",
    "print(f\"Validation Set Test Error Rate {error}\")"
   ]
  },
  {
   "cell_type": "markdown",
   "id": "f7740b76",
   "metadata": {},
   "source": [
    "We got an initial Validation Set Test Error Rate of 2.85% without the use of Student as a predictor. When we added it, the test error remained the same. "
   ]
  },
  {
   "cell_type": "markdown",
   "id": "708f311f",
   "metadata": {},
   "source": [
    "Using Summarize, we saw that our standard errors for balance and income were pretty much 0 and 9x10e^-6. We'll now attempt to compute the same values using the bootstrap"
   ]
  },
  {
   "cell_type": "markdown",
   "id": "0237894c",
   "metadata": {},
   "source": [
    "Problem 7.\n",
    "\n",
    "In Sections 5.1.2 and 5.1.3, we saw that the cross_validate() function\n",
    "can be used in order to compute the LOOCV test error estimate.\n",
    "Alternatively, one could compute those quantities using just sm.GLM()\n",
    "and the predict() method of the ftted model within a for loop. You\n",
    "will now take this approach in order to compute the LOOCV error\n",
    "for a simple logistic regression model on the Weekly data set. Recall\n",
    "that in the context of classifcation problems, the LOOCV error is\n",
    "given in (5.4)\n",
    "\n",
    "Fit a logistic regression model that predicts Direction using Lag1\n",
    "and Lag2.\n",
    "    (b) Fit a logistic regression model that predicts Direction using Lag1\n",
    "    and Lag2 using all but the frst observation.\n",
    "    (c) Use the model from (b) to predict the direction of the frst observation. You can do this by predicting that the frst observation\n",
    "    will go up if P(Direction = \"Up\"|Lag1, Lag2) > 0.5. Was this\n",
    "    observation correctly classifed?\n",
    "    (d) Write a for loop from i = 1 to i = n, where n is the number of\n",
    "    observations in the data set, that performs each of the following\n",
    "    steps\n",
    "        i. Fit a logistic regression model using all but the ith observation to predict Direction using Lag1 and Lag2.\n",
    "        ii. Compute the posterior probability of the market moving up\n",
    "        for the ith observation.\n",
    "        iii. Use the posterior probability for the ith observation in order\n",
    "        to predict whether or not the market moves up.\n",
    "        iv. Determine whether or not an error was made in predicting\n",
    "        the direction for the ith observation. If an error was made,\n",
    "        then indicate this as a 1, and otherwise indicate it as a 0."
   ]
  },
  {
   "cell_type": "code",
   "execution_count": 432,
   "id": "d8a202fb",
   "metadata": {},
   "outputs": [
    {
     "name": "stdout",
     "output_type": "stream",
     "text": [
      "Down\n"
     ]
    }
   ],
   "source": [
    "weekly = load_data(\"Weekly\")\n",
    "weekly.head()\n",
    "Row = weekly.iloc[[0]]\n",
    "weekly.drop(0)\n",
    "Direction = Row[\"Direction\"]\n",
    "Row = Row.drop([\"Today\",\"Year\",\"Lag3\",\"Lag4\",\"Lag5\",\"Direction\",\"Volume\"],axis = 1)\n",
    "print(Direction.values[0])"
   ]
  },
  {
   "cell_type": "code",
   "execution_count": 433,
   "id": "56d63cc5",
   "metadata": {},
   "outputs": [],
   "source": [
    "Allvars = weekly.columns.drop([\"Today\",\"Year\",\"Lag3\",\"Lag4\",\"Lag5\",\"Direction\",\"Volume\"])\n"
   ]
  },
  {
   "cell_type": "code",
   "execution_count": 434,
   "id": "2799a2da",
   "metadata": {},
   "outputs": [
    {
     "name": "stdout",
     "output_type": "stream",
     "text": [
      "                 Generalized Linear Model Regression Results                  \n",
      "==============================================================================\n",
      "Dep. Variable:              Direction   No. Observations:                 1089\n",
      "Model:                            GLM   Df Residuals:                     1086\n",
      "Model Family:                Binomial   Df Model:                            2\n",
      "Link Function:                  Logit   Scale:                          1.0000\n",
      "Method:                          IRLS   Log-Likelihood:                -744.11\n",
      "Date:                Wed, 30 Apr 2025   Deviance:                       1488.2\n",
      "Time:                        13:17:19   Pearson chi2:                 1.09e+03\n",
      "No. Iterations:                     4   Pseudo R-squ. (CS):           0.007303\n",
      "Covariance Type:            nonrobust                                         \n",
      "==============================================================================\n",
      "                 coef    std err          z      P>|z|      [0.025      0.975]\n",
      "------------------------------------------------------------------------------\n",
      "intercept      0.2212      0.061      3.599      0.000       0.101       0.342\n",
      "Lag1          -0.0387      0.026     -1.477      0.140      -0.090       0.013\n",
      "Lag2           0.0602      0.027      2.270      0.023       0.008       0.112\n",
      "==============================================================================\n"
     ]
    }
   ],
   "source": [
    "modelspec = MS(Allvars)\n",
    "X = modelspec.fit_transform(weekly)\n",
    "Y = weekly.Direction == \"Up\"\n",
    "model = sm.GLM(Y,X,family=sm.families.Binomial())\n",
    "results = model.fit()\n",
    "print(results.summary())"
   ]
  },
  {
   "cell_type": "code",
   "execution_count": 435,
   "id": "9e68102b",
   "metadata": {},
   "outputs": [],
   "source": [
    "row_test = modelspec.fit_transform(Row)\n",
    "prob = results.predict(row_test)\n",
    "labels = np.array([\"Down\"])\n",
    "labels[prob > 0.5] = \"Up\"\n"
   ]
  },
  {
   "cell_type": "markdown",
   "id": "0ee98267",
   "metadata": {},
   "source": [
    "This observation  was not correctly classified "
   ]
  },
  {
   "cell_type": "code",
   "execution_count": 436,
   "id": "d62f2ce3",
   "metadata": {},
   "outputs": [],
   "source": [
    "def LOOCV():\n",
    "    weekly = load_data(\"Weekly\")\n",
    "    result = []\n",
    "    for i in range(len(weekly) - 1):\n",
    "        Row = weekly.iloc[[i]]\n",
    "        weekly.drop(0)\n",
    "        Direction = Row[\"Direction\"]\n",
    "        Row = Row.drop([\"Today\",\"Year\",\"Lag3\",\"Lag4\",\"Lag5\",\"Direction\",\"Volume\"],axis = 1)\n",
    "        Allvars = weekly.columns.drop([\"Today\",\"Year\",\"Lag3\",\"Lag4\",\"Lag5\",\"Direction\",\"Volume\"])\n",
    "        modelspec = MS(Allvars)\n",
    "        X = modelspec.fit_transform(weekly)\n",
    "        Y = weekly.Direction == \"Up\"\n",
    "        model = sm.GLM(Y,X,family=sm.families.Binomial())\n",
    "        results = model.fit()\n",
    "        row_test = modelspec.fit_transform(Row)\n",
    "        prob = results.predict(row_test)\n",
    "        labels = np.array([\"Down\"])\n",
    "        labels[prob > 0.5] = \"Up\"\n",
    "        if labels[0] != Direction.values[0]:\n",
    "            result.append(1)\n",
    "        else:\n",
    "            result.append(0)\n",
    "    \n",
    "    return result\n",
    "\n",
    "\n",
    "results_from_loocv = LOOCV()"
   ]
  },
  {
   "cell_type": "code",
   "execution_count": 438,
   "id": "9bccde4e",
   "metadata": {},
   "outputs": [
    {
     "name": "stdout",
     "output_type": "stream",
     "text": [
      "Test error from LOOCV 44.48529411764706 %\n"
     ]
    }
   ],
   "source": [
    "errors = 0\n",
    "for num in results_from_loocv:\n",
    "    if num == 1:\n",
    "        errors +=1 \n",
    "\n",
    "test_error = errors/len(results_from_loocv) * 100\n",
    "print(f\"Test error from LOOCV {test_error} %\")"
   ]
  },
  {
   "cell_type": "markdown",
   "id": "37678d9b",
   "metadata": {},
   "source": [
    "This model is terrible. "
   ]
  }
 ],
 "metadata": {
  "kernelspec": {
   "display_name": "Python 3",
   "language": "python",
   "name": "python3"
  },
  "language_info": {
   "codemirror_mode": {
    "name": "ipython",
    "version": 3
   },
   "file_extension": ".py",
   "mimetype": "text/x-python",
   "name": "python",
   "nbconvert_exporter": "python",
   "pygments_lexer": "ipython3",
   "version": "3.12.5"
  }
 },
 "nbformat": 4,
 "nbformat_minor": 5
}
