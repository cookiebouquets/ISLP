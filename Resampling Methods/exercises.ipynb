{
 "cells": [
  {
   "cell_type": "code",
   "execution_count": 179,
   "id": "987fa569",
   "metadata": {},
   "outputs": [],
   "source": [
    "#Basic Imports\n",
    "import pandas as pd\n",
    "import numpy as np\n",
    "import matplotlib as plt\n",
    "import statsmodels.api as sm\n",
    "import seaborn as sns\n",
    "from ISLP import load_data\n",
    "from ISLP.models import (ModelSpec as MS,summarize)\n",
    "from sklearn.model_selection import train_test_split"
   ]
  },
  {
   "cell_type": "code",
   "execution_count": 180,
   "id": "8ec84c67",
   "metadata": {},
   "outputs": [],
   "source": [
    "#Classifying Imports\n",
    "from ISLP import confusion_table\n",
    "from ISLP.models import contrast\n",
    "from sklearn.discriminant_analysis import LinearDiscriminantAnalysis as LDA\n",
    "from sklearn.discriminant_analysis import QuadraticDiscriminantAnalysis as QDA\n",
    "from sklearn.naive_bayes import GaussianNB\n",
    "from sklearn.neighbors import KNeighborsClassifier\n",
    "from sklearn.preprocessing import StandardScaler\n",
    "from sklearn.model_selection import train_test_split\n",
    "from sklearn.linear_model import LogisticRegression\n",
    "from sklearn.preprocessing import OrdinalEncoder"
   ]
  },
  {
   "cell_type": "code",
   "execution_count": 181,
   "id": "e4ecec55",
   "metadata": {},
   "outputs": [
    {
     "data": {
      "text/html": [
       "<div>\n",
       "<style scoped>\n",
       "    .dataframe tbody tr th:only-of-type {\n",
       "        vertical-align: middle;\n",
       "    }\n",
       "\n",
       "    .dataframe tbody tr th {\n",
       "        vertical-align: top;\n",
       "    }\n",
       "\n",
       "    .dataframe thead th {\n",
       "        text-align: right;\n",
       "    }\n",
       "</style>\n",
       "<table border=\"1\" class=\"dataframe\">\n",
       "  <thead>\n",
       "    <tr style=\"text-align: right;\">\n",
       "      <th></th>\n",
       "      <th>default</th>\n",
       "      <th>student</th>\n",
       "      <th>balance</th>\n",
       "      <th>income</th>\n",
       "    </tr>\n",
       "  </thead>\n",
       "  <tbody>\n",
       "    <tr>\n",
       "      <th>0</th>\n",
       "      <td>No</td>\n",
       "      <td>No</td>\n",
       "      <td>729.526495</td>\n",
       "      <td>44361.625074</td>\n",
       "    </tr>\n",
       "    <tr>\n",
       "      <th>1</th>\n",
       "      <td>No</td>\n",
       "      <td>Yes</td>\n",
       "      <td>817.180407</td>\n",
       "      <td>12106.134700</td>\n",
       "    </tr>\n",
       "    <tr>\n",
       "      <th>2</th>\n",
       "      <td>No</td>\n",
       "      <td>No</td>\n",
       "      <td>1073.549164</td>\n",
       "      <td>31767.138947</td>\n",
       "    </tr>\n",
       "    <tr>\n",
       "      <th>3</th>\n",
       "      <td>No</td>\n",
       "      <td>No</td>\n",
       "      <td>529.250605</td>\n",
       "      <td>35704.493935</td>\n",
       "    </tr>\n",
       "    <tr>\n",
       "      <th>4</th>\n",
       "      <td>No</td>\n",
       "      <td>No</td>\n",
       "      <td>785.655883</td>\n",
       "      <td>38463.495879</td>\n",
       "    </tr>\n",
       "  </tbody>\n",
       "</table>\n",
       "</div>"
      ],
      "text/plain": [
       "  default student      balance        income\n",
       "0      No      No   729.526495  44361.625074\n",
       "1      No     Yes   817.180407  12106.134700\n",
       "2      No      No  1073.549164  31767.138947\n",
       "3      No      No   529.250605  35704.493935\n",
       "4      No      No   785.655883  38463.495879"
      ]
     },
     "execution_count": 181,
     "metadata": {},
     "output_type": "execute_result"
    }
   ],
   "source": [
    "Default = load_data(\"Default\")\n",
    "Default.head()"
   ]
  },
  {
   "cell_type": "code",
   "execution_count": 182,
   "id": "5f2def20",
   "metadata": {},
   "outputs": [],
   "source": [
    "enc = OrdinalEncoder(categories = [[\"No\",\"Yes\"]])\n",
    "Default[\"student_encoded\"] = enc.fit_transform(Default[[\"student\"]])"
   ]
  },
  {
   "cell_type": "code",
   "execution_count": 183,
   "id": "c1ce3769",
   "metadata": {},
   "outputs": [],
   "source": [
    "default_train,default_test = train_test_split(Default,test_size=2000)"
   ]
  },
  {
   "cell_type": "code",
   "execution_count": 184,
   "id": "741fd505",
   "metadata": {},
   "outputs": [
    {
     "data": {
      "text/html": [
       "<div>\n",
       "<style scoped>\n",
       "    .dataframe tbody tr th:only-of-type {\n",
       "        vertical-align: middle;\n",
       "    }\n",
       "\n",
       "    .dataframe tbody tr th {\n",
       "        vertical-align: top;\n",
       "    }\n",
       "\n",
       "    .dataframe thead th {\n",
       "        text-align: right;\n",
       "    }\n",
       "</style>\n",
       "<table border=\"1\" class=\"dataframe\">\n",
       "  <thead>\n",
       "    <tr style=\"text-align: right;\">\n",
       "      <th></th>\n",
       "      <th>coef</th>\n",
       "      <th>std err</th>\n",
       "      <th>z</th>\n",
       "      <th>P&gt;|z|</th>\n",
       "    </tr>\n",
       "  </thead>\n",
       "  <tbody>\n",
       "    <tr>\n",
       "      <th>intercept</th>\n",
       "      <td>-10.546500</td>\n",
       "      <td>0.540000</td>\n",
       "      <td>-19.543</td>\n",
       "      <td>0.000</td>\n",
       "    </tr>\n",
       "    <tr>\n",
       "      <th>balance</th>\n",
       "      <td>0.005700</td>\n",
       "      <td>0.000000</td>\n",
       "      <td>22.166</td>\n",
       "      <td>0.000</td>\n",
       "    </tr>\n",
       "    <tr>\n",
       "      <th>income</th>\n",
       "      <td>-0.000002</td>\n",
       "      <td>0.000009</td>\n",
       "      <td>-0.207</td>\n",
       "      <td>0.836</td>\n",
       "    </tr>\n",
       "    <tr>\n",
       "      <th>student_encoded</th>\n",
       "      <td>-0.830300</td>\n",
       "      <td>0.261000</td>\n",
       "      <td>-3.177</td>\n",
       "      <td>0.001</td>\n",
       "    </tr>\n",
       "  </tbody>\n",
       "</table>\n",
       "</div>"
      ],
      "text/plain": [
       "                      coef   std err       z  P>|z|\n",
       "intercept       -10.546500  0.540000 -19.543  0.000\n",
       "balance           0.005700  0.000000  22.166  0.000\n",
       "income           -0.000002  0.000009  -0.207  0.836\n",
       "student_encoded  -0.830300  0.261000  -3.177  0.001"
      ]
     },
     "execution_count": 184,
     "metadata": {},
     "output_type": "execute_result"
    }
   ],
   "source": [
    "allvars = Default.columns.drop([\"student\",\"default\"])\n",
    "modelspec = MS(allvars)\n",
    "X_train  = modelspec.fit_transform(default_train)\n",
    "Y_train = default_train.default == \"Yes\"\n",
    "model = sm.GLM(Y_train,X_train,family=sm.families.Binomial())\n",
    "results = model.fit()\n",
    "summarize(results)"
   ]
  },
  {
   "cell_type": "code",
   "execution_count": 185,
   "id": "ebdeaec3",
   "metadata": {},
   "outputs": [],
   "source": [
    "\n",
    "x_test = modelspec.fit_transform(default_test)\n",
    "probs = results.predict(exog =  x_test)"
   ]
  },
  {
   "cell_type": "code",
   "execution_count": 186,
   "id": "5f81b26e",
   "metadata": {},
   "outputs": [
    {
     "data": {
      "text/html": [
       "<div>\n",
       "<style scoped>\n",
       "    .dataframe tbody tr th:only-of-type {\n",
       "        vertical-align: middle;\n",
       "    }\n",
       "\n",
       "    .dataframe tbody tr th {\n",
       "        vertical-align: top;\n",
       "    }\n",
       "\n",
       "    .dataframe thead th {\n",
       "        text-align: right;\n",
       "    }\n",
       "</style>\n",
       "<table border=\"1\" class=\"dataframe\">\n",
       "  <thead>\n",
       "    <tr style=\"text-align: right;\">\n",
       "      <th>Truth</th>\n",
       "      <th>No</th>\n",
       "      <th>Yes</th>\n",
       "    </tr>\n",
       "    <tr>\n",
       "      <th>Predicted</th>\n",
       "      <th></th>\n",
       "      <th></th>\n",
       "    </tr>\n",
       "  </thead>\n",
       "  <tbody>\n",
       "    <tr>\n",
       "      <th>No</th>\n",
       "      <td>1925</td>\n",
       "      <td>43</td>\n",
       "    </tr>\n",
       "    <tr>\n",
       "      <th>Yes</th>\n",
       "      <td>8</td>\n",
       "      <td>24</td>\n",
       "    </tr>\n",
       "  </tbody>\n",
       "</table>\n",
       "</div>"
      ],
      "text/plain": [
       "Truth        No  Yes\n",
       "Predicted           \n",
       "No         1925   43\n",
       "Yes           8   24"
      ]
     },
     "execution_count": 186,
     "metadata": {},
     "output_type": "execute_result"
    }
   ],
   "source": [
    "labels = np.array([\"No\"]*2000)\n",
    "labels[probs > 0.5] = \"Yes\"\n",
    "labels = np.char.replace(labels,\"Ye\",\"Yes\")\n",
    "confusion_table(labels,default_test.default)"
   ]
  },
  {
   "cell_type": "code",
   "execution_count": 187,
   "id": "7df9d7ec",
   "metadata": {},
   "outputs": [
    {
     "name": "stdout",
     "output_type": "stream",
     "text": [
      "Validation Set Test Error Rate 2.85\n"
     ]
    }
   ],
   "source": [
    "error = (45+12)/2000 * 100\n",
    "print(f\"Validation Set Test Error Rate {error}\")"
   ]
  },
  {
   "cell_type": "markdown",
   "id": "f7740b76",
   "metadata": {},
   "source": [
    "We got an initial Validation Set Test Error Rate of 2.85% without the use of Student as a predictor. When we added it, the test error remained the same. "
   ]
  },
  {
   "cell_type": "markdown",
   "id": "708f311f",
   "metadata": {},
   "source": [
    "Using Summarize, we saw that our standard errors for balance and income were pretty much 0 and 9x10e^-6. We'll now attempt to compute the same values using the bootstrap"
   ]
  },
  {
   "cell_type": "code",
   "execution_count": null,
   "id": "9fe84486",
   "metadata": {},
   "outputs": [],
   "source": []
  }
 ],
 "metadata": {
  "kernelspec": {
   "display_name": "Python 3",
   "language": "python",
   "name": "python3"
  },
  "language_info": {
   "codemirror_mode": {
    "name": "ipython",
    "version": 3
   },
   "file_extension": ".py",
   "mimetype": "text/x-python",
   "name": "python",
   "nbconvert_exporter": "python",
   "pygments_lexer": "ipython3",
   "version": "3.12.5"
  }
 },
 "nbformat": 4,
 "nbformat_minor": 5
}
